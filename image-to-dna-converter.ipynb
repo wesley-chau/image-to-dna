{
 "cells": [
  {
   "cell_type": "code",
   "execution_count": 1,
   "metadata": {},
   "outputs": [],
   "source": [
    "from PIL import Image\n",
    "import numpy as np\n",
    "from numpy import asarray\n",
    "\n",
    "\n",
    "image = Image.open('image.jpg')"
   ]
  },
  {
   "cell_type": "code",
   "execution_count": 2,
   "metadata": {},
   "outputs": [
    {
     "name": "stdout",
     "output_type": "stream",
     "text": [
      "500 354 1.4124293785310735\n",
      "37 52\n",
      "base pairs 962.0\n"
     ]
    }
   ],
   "source": [
    "maxBasePairs = 1000\n",
    "\n",
    "w, h = image.size\n",
    "ratio = w/h\n",
    "print(w,h,ratio)\n",
    "\n",
    "imgH = int( np.sqrt( ( maxBasePairs * 2 ) / ratio ) )\n",
    "imgW = int( imgH * ratio )\n",
    "\n",
    "print(imgH,imgW)\n",
    "\n",
    "\n",
    "print( \"base pairs\", imgW * imgH / 2 )"
   ]
  },
  {
   "cell_type": "markdown",
   "metadata": {},
   "source": [
    "Now generate the image, once we've found the correct parameters"
   ]
  },
  {
   "cell_type": "code",
   "execution_count": 3,
   "metadata": {},
   "outputs": [],
   "source": [
    "smallImage = image.resize((imgW, imgH))\n",
    "smallImage.show()"
   ]
  },
  {
   "cell_type": "markdown",
   "metadata": {},
   "source": [
    "Convert image into array"
   ]
  },
  {
   "cell_type": "code",
   "execution_count": 4,
   "metadata": {},
   "outputs": [
    {
     "name": "stdout",
     "output_type": "stream",
     "text": [
      "<class 'numpy.ndarray'>\n",
      "(37, 52, 3)\n"
     ]
    }
   ],
   "source": [
    "data = asarray(smallImage)\n",
    "print(type(data))\n",
    "print(data.shape)"
   ]
  },
  {
   "cell_type": "markdown",
   "metadata": {},
   "source": [
    "Convert array into binary string"
   ]
  },
  {
   "cell_type": "code",
   "execution_count": 5,
   "metadata": {},
   "outputs": [],
   "source": [
    "imageInBinary = []\n",
    "\n",
    "for row in data:\n",
    "  for col in row:\n",
    "      if col[0] < 128:\n",
    "        imageInBinary.append(0)\n",
    "      else:\n",
    "        imageInBinary.append(1)\n",
    "\n",
    "# print(imageInBinary)"
   ]
  },
  {
   "cell_type": "markdown",
   "metadata": {},
   "source": [
    "Convert binary into DNA"
   ]
  },
  {
   "cell_type": "code",
   "execution_count": 6,
   "metadata": {},
   "outputs": [
    {
     "name": "stdout",
     "output_type": "stream",
     "text": [
      "962\n"
     ]
    }
   ],
   "source": [
    "basePairs = []\n",
    "\n",
    "for i in range(0, len(imageInBinary), 2):\n",
    "  basePairInBinary = \"\"\n",
    "  basePairInBinary += str( imageInBinary[i] )\n",
    "  basePairInBinary += str( imageInBinary[i+1] )\n",
    "  if basePairInBinary == '00': \n",
    "    basePairs.append(\"A\")\n",
    "  elif basePairInBinary == \"01\": \n",
    "    basePairs.append(\"C\")\n",
    "  elif basePairInBinary == \"10\": \n",
    "    basePairs.append(\"G\")\n",
    "  else: # 11\n",
    "    basePairs.append(\"T\")\n",
    "\n",
    "print(len(basePairs))"
   ]
  },
  {
   "cell_type": "markdown",
   "metadata": {},
   "source": [
    "Store data in file"
   ]
  },
  {
   "cell_type": "code",
   "execution_count": 7,
   "metadata": {},
   "outputs": [],
   "source": [
    "with open(\"basePairs.txt\", \"w\") as txt_file:\n",
    "    for line in basePairs:\n",
    "        txt_file.write(\" \".join(line) + \"\\n\") # works with any number of elements in a line"
   ]
  },
  {
   "cell_type": "code",
   "execution_count": 8,
   "metadata": {},
   "outputs": [
    {
     "name": "stdout",
     "output_type": "stream",
     "text": [
      "cost 67.34\n"
     ]
    }
   ],
   "source": [
    "cost = len(basePairs) * 0.07\n",
    "print( \"cost\",cost  )"
   ]
  }
 ],
 "metadata": {
  "interpreter": {
   "hash": "57cdb53787de836f250035f226e6234437bc7e1d8beb5442fc402e10019a4e9a"
  },
  "kernelspec": {
   "display_name": "Python 3.8.8 ('base')",
   "language": "python",
   "name": "python3"
  },
  "language_info": {
   "codemirror_mode": {
    "name": "ipython",
    "version": 3
   },
   "file_extension": ".py",
   "mimetype": "text/x-python",
   "name": "python",
   "nbconvert_exporter": "python",
   "pygments_lexer": "ipython3",
   "version": "3.8.8"
  },
  "orig_nbformat": 4
 },
 "nbformat": 4,
 "nbformat_minor": 2
}
